{
 "cells": [
  {
   "cell_type": "code",
   "execution_count": 3,
   "id": "35145afe-a389-4c88-a40a-4501f96a3637",
   "metadata": {},
   "outputs": [
    {
     "name": "stdout",
     "output_type": "stream",
     "text": [
      "Collecting PyQt5\n",
      "  Using cached PyQt5-5.15.11-cp38-abi3-win_amd64.whl.metadata (2.1 kB)\n",
      "Collecting PyQt5-sip<13,>=12.15 (from PyQt5)\n",
      "  Downloading PyQt5_sip-12.17.0-cp311-cp311-win_amd64.whl.metadata (492 bytes)\n",
      "Collecting PyQt5-Qt5<5.16.0,>=5.15.2 (from PyQt5)\n",
      "  Using cached PyQt5_Qt5-5.15.2-py3-none-win_amd64.whl.metadata (552 bytes)\n",
      "Using cached PyQt5-5.15.11-cp38-abi3-win_amd64.whl (6.9 MB)\n",
      "Using cached PyQt5_Qt5-5.15.2-py3-none-win_amd64.whl (50.1 MB)\n",
      "Downloading PyQt5_sip-12.17.0-cp311-cp311-win_amd64.whl (59 kB)\n",
      "Installing collected packages: PyQt5-Qt5, PyQt5-sip, PyQt5\n",
      "\n",
      "   ---------------------------------------- 0/3 [PyQt5-Qt5]\n",
      "   ---------------------------------------- 0/3 [PyQt5-Qt5]\n",
      "   ---------------------------------------- 0/3 [PyQt5-Qt5]\n",
      "   ---------------------------------------- 0/3 [PyQt5-Qt5]\n",
      "   ---------------------------------------- 0/3 [PyQt5-Qt5]\n",
      "   ---------------------------------------- 0/3 [PyQt5-Qt5]\n",
      "   ---------------------------------------- 0/3 [PyQt5-Qt5]\n",
      "   ---------------------------------------- 0/3 [PyQt5-Qt5]\n",
      "   ---------------------------------------- 0/3 [PyQt5-Qt5]\n",
      "   ---------------------------------------- 0/3 [PyQt5-Qt5]\n",
      "   ---------------------------------------- 0/3 [PyQt5-Qt5]\n",
      "   ---------------------------------------- 0/3 [PyQt5-Qt5]\n",
      "   ---------------------------------------- 0/3 [PyQt5-Qt5]\n",
      "   ---------------------------------------- 0/3 [PyQt5-Qt5]\n",
      "   ---------------------------------------- 0/3 [PyQt5-Qt5]\n",
      "   ---------------------------------------- 0/3 [PyQt5-Qt5]\n",
      "   ---------------------------------------- 0/3 [PyQt5-Qt5]\n",
      "   ---------------------------------------- 0/3 [PyQt5-Qt5]\n",
      "   ---------------------------------------- 0/3 [PyQt5-Qt5]\n",
      "   ------------- -------------------------- 1/3 [PyQt5-sip]\n",
      "   -------------------------- ------------- 2/3 [PyQt5]\n",
      "   -------------------------- ------------- 2/3 [PyQt5]\n",
      "   -------------------------- ------------- 2/3 [PyQt5]\n",
      "   -------------------------- ------------- 2/3 [PyQt5]\n",
      "   -------------------------- ------------- 2/3 [PyQt5]\n",
      "   -------------------------- ------------- 2/3 [PyQt5]\n",
      "   -------------------------- ------------- 2/3 [PyQt5]\n",
      "   -------------------------- ------------- 2/3 [PyQt5]\n",
      "   -------------------------- ------------- 2/3 [PyQt5]\n",
      "   -------------------------- ------------- 2/3 [PyQt5]\n",
      "   -------------------------- ------------- 2/3 [PyQt5]\n",
      "   ---------------------------------------- 3/3 [PyQt5]\n",
      "\n",
      "Successfully installed PyQt5-5.15.11 PyQt5-Qt5-5.15.2 PyQt5-sip-12.17.0\n",
      "   Unnamed: 0.1  Unnamed: 0  VendorID tpep_pickup_datetime  \\\n",
      "0             0           0         1  2015-01-01 00:11:33   \n",
      "1             1           1         1  2015-01-01 00:18:24   \n",
      "2             2           2         1  2015-01-01 00:26:19   \n",
      "3             3           3         1  2015-01-01 00:45:26   \n",
      "4             4           4         1  2015-01-01 00:59:21   \n",
      "\n",
      "  tpep_dropoff_datetime  passenger_count  trip_distance  RatecodeID  \\\n",
      "0   2015-01-01 00:16:48                1            1.0           1   \n",
      "1   2015-01-01 00:24:20                1            0.9           1   \n",
      "2   2015-01-01 00:41:06                1            3.5           1   \n",
      "3   2015-01-01 00:53:20                1            2.1           1   \n",
      "4   2015-01-01 01:05:24                1            1.0           1   \n",
      "\n",
      "  store_and_fwd_flag  PULocationID  ...  payment_type  fare_amount  extra  \\\n",
      "0                  N            41  ...             1          5.7    0.5   \n",
      "1                  N           166  ...             3          6.0    0.5   \n",
      "2                  N           238  ...             1         13.2    0.5   \n",
      "3                  N           162  ...             1          8.2    0.5   \n",
      "4                  N           236  ...             3          6.0    0.5   \n",
      "\n",
      "   mta_tax  tip_amount  tolls_amount  improvement_surcharge  total_amount  \\\n",
      "0      0.5        1.40           0.0                    0.0          8.40   \n",
      "1      0.5        0.00           0.0                    0.0          7.30   \n",
      "2      0.5        2.90           0.0                    0.0         17.40   \n",
      "3      0.5        2.37           0.0                    0.0         11.87   \n",
      "4      0.5        0.00           0.0                    0.0          7.30   \n",
      "\n",
      "   congestion_surcharge  airport_fee  \n",
      "0                   NaN          NaN  \n",
      "1                   NaN          NaN  \n",
      "2                   NaN          NaN  \n",
      "3                   NaN          NaN  \n",
      "4                   NaN          NaN  \n",
      "\n",
      "[5 rows x 21 columns]\n",
      "   age  gender  miles   debt  income  sales\n",
      "0   28       0     23      0    4099    620\n",
      "1   26       0     27      0    2677   1792\n",
      "2   30       1     58  41576    6215  27754\n",
      "3   26       1     25  43172    7626  28256\n",
      "4   20       1     17   6979    8071   4438\n"
     ]
    },
    {
     "ename": "SystemExit",
     "evalue": "0",
     "output_type": "error",
     "traceback": [
      "An exception has occurred, use %tb to see the full traceback.\n",
      "\u001b[31mSystemExit\u001b[39m\u001b[31m:\u001b[39m 0\n"
     ]
    },
    {
     "name": "stderr",
     "output_type": "stream",
     "text": [
      "C:\\Users\\saura\\anaconda3\\envs\\myenv\\Lib\\site-packages\\IPython\\core\\interactiveshell.py:3675: UserWarning: To exit: use 'exit', 'quit', or Ctrl-D.\n",
      "  warn(\"To exit: use 'exit', 'quit', or Ctrl-D.\", stacklevel=1)\n"
     ]
    }
   ],
   "source": [
    "!pip install PyQt5\n"
   ]
  },
  {
   "cell_type": "code",
   "execution_count": 1,
   "id": "ebc6abfe-9d4b-44b4-ab00-d7b61a4c63a2",
   "metadata": {},
   "outputs": [
    {
     "ename": "SystemExit",
     "evalue": "0",
     "output_type": "error",
     "traceback": [
      "An exception has occurred, use %tb to see the full traceback.\n",
      "\u001b[31mSystemExit\u001b[39m\u001b[31m:\u001b[39m 0\n"
     ]
    },
    {
     "name": "stderr",
     "output_type": "stream",
     "text": [
      "C:\\Users\\saura\\anaconda3\\envs\\myenv\\Lib\\site-packages\\IPython\\core\\interactiveshell.py:3675: UserWarning: To exit: use 'exit', 'quit', or Ctrl-D.\n",
      "  warn(\"To exit: use 'exit', 'quit', or Ctrl-D.\", stacklevel=1)\n"
     ]
    }
   ],
   "source": [
    "from PyQt5.QtWidgets import QApplication, QWidget, QLabel, QVBoxLayout, QPushButton, QFileDialog;\n",
    "\n",
    "\n",
    "import sys \n",
    "import pandas as pd \n",
    "\n",
    "def read_csv_file(file_path):\n",
    "    try:\n",
    "        #global df\n",
    "        df = pd.read_csv(file_path)\n",
    "        return df\n",
    "    except Exception as e:\n",
    "        print(f\"Error reading CSV file: {e}\")\n",
    "\n",
    "class CSVReader(QWidget):\n",
    "    def __init__ (self):\n",
    "        super().__init__()\n",
    "        self.setWindowTitle(\"CSV Reader\")\n",
    "        self.setGeometry(200, 200, 300, 100)\n",
    "\n",
    "#self.file_path = None\n",
    "\n",
    "        layout = QVBoxLayout()\n",
    "\n",
    "        self.browse_button = QPushButton(\"Select a CSV file to read:\")\n",
    "        self.browse_button.clicked.connect(self.browse_file)\n",
    "        layout.addWidget(self.browse_button)\n",
    "\n",
    "      \n",
    "\n",
    "        self.setLayout(layout)    \n",
    "\n",
    "\n",
    "    def browse_file(self):\n",
    "        path,_=QFileDialog.getOpenFileName(self, \"Open CSV File\", \"\", \"CSV Files (*.csv);;All Files (*)\")   \n",
    "        if path:\n",
    "            df = read_csv_file(path)\n",
    "            if df is not None:\n",
    "                print(df.head())  # Display the first few rows of the DataFrame\n",
    "            else:\n",
    "                print(\"Failed to read the CSV file.\")\n",
    "\n",
    "if __name__ == \"__main__\":\n",
    "    app = QApplication(sys.argv)\n",
    "    window = CSVReader()\n",
    "    window.show()\n",
    "    sys.exit(app.exec_())\n",
    "    df=read_csv_file(file_path)\n",
    "    print(\"First five rows of the dataframe from the csv:\\n\", df.head())  # Display the first five rows of the DataFrame"
   ]
  },
  {
   "cell_type": "code",
   "execution_count": null,
   "id": "46d7981d-873a-4fd4-9375-d15bc20b99e9",
   "metadata": {},
   "outputs": [],
   "source": []
  },
  {
   "cell_type": "code",
   "execution_count": null,
   "id": "3e53e5fc-9bde-4d0a-aff0-c3dc20f9e4fc",
   "metadata": {},
   "outputs": [],
   "source": []
  },
  {
   "cell_type": "code",
   "execution_count": null,
   "id": "d27ba5cd-c210-4ea8-b9ae-7d3d7c0031b5",
   "metadata": {},
   "outputs": [],
   "source": []
  }
 ],
 "metadata": {
  "kernelspec": {
   "display_name": "Python 3 (ipykernel)",
   "language": "python",
   "name": "python3"
  },
  "language_info": {
   "codemirror_mode": {
    "name": "ipython",
    "version": 3
   },
   "file_extension": ".py",
   "mimetype": "text/x-python",
   "name": "python",
   "nbconvert_exporter": "python",
   "pygments_lexer": "ipython3",
   "version": "3.11.11"
  }
 },
 "nbformat": 4,
 "nbformat_minor": 5
}
